{
 "cells": [
  {
   "cell_type": "code",
   "execution_count": 4,
   "id": "ba80bf39-e5d6-4b12-91e4-f7f36674a888",
   "metadata": {},
   "outputs": [],
   "source": [
    "a = 1"
   ]
  },
  {
   "cell_type": "code",
   "execution_count": 3,
   "id": "d0ceac00-ca9b-4891-8190-daaec0c01dbe",
   "metadata": {},
   "outputs": [
    {
     "data": {
      "text/plain": [
       "1"
      ]
     },
     "execution_count": 3,
     "metadata": {},
     "output_type": "execute_result"
    }
   ],
   "source": [
    "a"
   ]
  },
  {
   "cell_type": "code",
   "execution_count": 5,
   "id": "ab2d0d59-f6e7-4dcc-9364-26ddba8a85e0",
   "metadata": {},
   "outputs": [
    {
     "data": {
      "text/plain": [
       "int"
      ]
     },
     "execution_count": 5,
     "metadata": {},
     "output_type": "execute_result"
    }
   ],
   "source": [
    "type(a)"
   ]
  },
  {
   "cell_type": "code",
   "execution_count": 6,
   "id": "81fed116-a362-4eb2-a474-9957b7831a2d",
   "metadata": {},
   "outputs": [],
   "source": [
    "b = \"shaailendra\""
   ]
  },
  {
   "cell_type": "code",
   "execution_count": 7,
   "id": "7fbd9084-9cde-4249-866d-9eb91625a1f8",
   "metadata": {},
   "outputs": [
    {
     "data": {
      "text/plain": [
       "'shaailendra'"
      ]
     },
     "execution_count": 7,
     "metadata": {},
     "output_type": "execute_result"
    }
   ],
   "source": [
    "b"
   ]
  },
  {
   "cell_type": "code",
   "execution_count": 8,
   "id": "d56cb259-f1dd-4655-9914-34f0083aa4c3",
   "metadata": {},
   "outputs": [
    {
     "data": {
      "text/plain": [
       "str"
      ]
     },
     "execution_count": 8,
     "metadata": {},
     "output_type": "execute_result"
    }
   ],
   "source": [
    "type(b)"
   ]
  },
  {
   "cell_type": "code",
   "execution_count": 9,
   "id": "85f658ae-1714-4e1d-a035-35902a183cc6",
   "metadata": {},
   "outputs": [],
   "source": [
    "c = 45.6585"
   ]
  },
  {
   "cell_type": "code",
   "execution_count": 11,
   "id": "a547da88-17e5-43fb-a5ce-f8c1137ffe76",
   "metadata": {},
   "outputs": [
    {
     "data": {
      "text/plain": [
       "float"
      ]
     },
     "execution_count": 11,
     "metadata": {},
     "output_type": "execute_result"
    }
   ],
   "source": [
    "type(c)"
   ]
  },
  {
   "cell_type": "code",
   "execution_count": 12,
   "id": "5165ec0b-397e-41bc-ab2d-27d16eee7bb0",
   "metadata": {},
   "outputs": [],
   "source": [
    "shai = 3435"
   ]
  },
  {
   "cell_type": "code",
   "execution_count": 13,
   "id": "cf46fbaf-59f1-456a-a42b-4421b6594d0a",
   "metadata": {},
   "outputs": [
    {
     "data": {
      "text/plain": [
       "3435"
      ]
     },
     "execution_count": 13,
     "metadata": {},
     "output_type": "execute_result"
    }
   ],
   "source": [
    "shai"
   ]
  },
  {
   "cell_type": "code",
   "execution_count": 14,
   "id": "549184c8-3674-4391-9f1f-be977fe934b6",
   "metadata": {},
   "outputs": [
    {
     "data": {
      "text/plain": [
       "int"
      ]
     },
     "execution_count": 14,
     "metadata": {},
     "output_type": "execute_result"
    }
   ],
   "source": [
    "type(shai)\n"
   ]
  },
  {
   "cell_type": "code",
   "execution_count": 15,
   "id": "c209b8e4-c9f6-40d5-9006-29b597a8e01d",
   "metadata": {},
   "outputs": [],
   "source": [
    "d = True"
   ]
  },
  {
   "cell_type": "code",
   "execution_count": 16,
   "id": "2e4abe39-e20f-4d6b-9267-90e69a2ddcde",
   "metadata": {},
   "outputs": [
    {
     "data": {
      "text/plain": [
       "bool"
      ]
     },
     "execution_count": 16,
     "metadata": {},
     "output_type": "execute_result"
    }
   ],
   "source": [
    "type(d)\n"
   ]
  },
  {
   "cell_type": "code",
   "execution_count": 17,
   "id": "94138bb3-682a-447e-8f25-fc556ae7ea4a",
   "metadata": {},
   "outputs": [
    {
     "data": {
      "text/plain": [
       "1"
      ]
     },
     "execution_count": 17,
     "metadata": {},
     "output_type": "execute_result"
    }
   ],
   "source": [
    "True - False"
   ]
  },
  {
   "cell_type": "code",
   "execution_count": 18,
   "id": "5cd5cefd-455c-4046-9fec-ec36418b58d8",
   "metadata": {},
   "outputs": [
    {
     "data": {
      "text/plain": [
       "0.0"
      ]
     },
     "execution_count": 18,
     "metadata": {},
     "output_type": "execute_result"
    }
   ],
   "source": [
    "False / True"
   ]
  },
  {
   "cell_type": "code",
   "execution_count": 19,
   "id": "7f68cf05-20a0-4ab4-bd89-ab4a0e0a65e8",
   "metadata": {},
   "outputs": [],
   "source": [
    "f = 5 + 4j"
   ]
  },
  {
   "cell_type": "code",
   "execution_count": 20,
   "id": "41fcd64c-a540-4a7e-b46a-2d3e9bb1cea0",
   "metadata": {},
   "outputs": [
    {
     "data": {
      "text/plain": [
       "complex"
      ]
     },
     "execution_count": 20,
     "metadata": {},
     "output_type": "execute_result"
    }
   ],
   "source": [
    "type(f)"
   ]
  },
  {
   "cell_type": "code",
   "execution_count": 21,
   "id": "ab7f75fd-dea8-4a17-b237-832d50bd4ee7",
   "metadata": {},
   "outputs": [],
   "source": [
    "g = 5j"
   ]
  },
  {
   "cell_type": "code",
   "execution_count": 22,
   "id": "d010e67a-5e8b-4019-b48f-d12ed4504f55",
   "metadata": {},
   "outputs": [
    {
     "data": {
      "text/plain": [
       "complex"
      ]
     },
     "execution_count": 22,
     "metadata": {},
     "output_type": "execute_result"
    }
   ],
   "source": [
    "type(g)\n"
   ]
  },
  {
   "cell_type": "code",
   "execution_count": 23,
   "id": "b0078391-1e98-4f12-a041-c5aca61bcbe6",
   "metadata": {},
   "outputs": [],
   "source": [
    "_a = 67"
   ]
  },
  {
   "cell_type": "code",
   "execution_count": 24,
   "id": "27f07ea1-66f0-44a0-a453-899c6c0a86d4",
   "metadata": {},
   "outputs": [
    {
     "data": {
      "text/plain": [
       "67"
      ]
     },
     "execution_count": 24,
     "metadata": {},
     "output_type": "execute_result"
    }
   ],
   "source": [
    "_a"
   ]
  },
  {
   "cell_type": "code",
   "execution_count": 25,
   "id": "b5910c4c-ea2a-4167-b073-3b0f2ce46c10",
   "metadata": {},
   "outputs": [
    {
     "ename": "NameError",
     "evalue": "name 'e' is not defined",
     "output_type": "error",
     "traceback": [
      "\u001b[0;31m---------------------------------------------------------------------------\u001b[0m",
      "\u001b[0;31mNameError\u001b[0m                                 Traceback (most recent call last)",
      "Cell \u001b[0;32mIn[25], line 1\u001b[0m\n\u001b[0;32m----> 1\u001b[0m \u001b[43me\u001b[49m\n",
      "\u001b[0;31mNameError\u001b[0m: name 'e' is not defined"
     ]
    }
   ],
   "source": [
    "e"
   ]
  },
  {
   "cell_type": "code",
   "execution_count": 26,
   "id": "8c9daac6-07cc-4c41-bfcf-9a273ef93a8f",
   "metadata": {},
   "outputs": [
    {
     "data": {
      "text/plain": [
       "(5+4j)"
      ]
     },
     "execution_count": 26,
     "metadata": {},
     "output_type": "execute_result"
    }
   ],
   "source": [
    "f\n"
   ]
  },
  {
   "cell_type": "code",
   "execution_count": 27,
   "id": "e28393cb-85e8-421d-a6f2-be3d9410bd10",
   "metadata": {},
   "outputs": [
    {
     "data": {
      "text/plain": [
       "5.0"
      ]
     },
     "execution_count": 27,
     "metadata": {},
     "output_type": "execute_result"
    }
   ],
   "source": [
    "f.real\n"
   ]
  },
  {
   "cell_type": "code",
   "execution_count": 29,
   "id": "a2d4aeeb-693b-4cad-ab89-538f44359ad1",
   "metadata": {},
   "outputs": [
    {
     "data": {
      "text/plain": [
       "4.0"
      ]
     },
     "execution_count": 29,
     "metadata": {},
     "output_type": "execute_result"
    }
   ],
   "source": [
    "f.imag\n"
   ]
  },
  {
   "cell_type": "code",
   "execution_count": null,
   "id": "41b054a2-66e4-4943-9f5c-078d346ea327",
   "metadata": {},
   "outputs": [],
   "source": []
  }
 ],
 "metadata": {
  "kernelspec": {
   "display_name": "Python 3 (ipykernel)",
   "language": "python",
   "name": "python3"
  },
  "language_info": {
   "codemirror_mode": {
    "name": "ipython",
    "version": 3
   },
   "file_extension": ".py",
   "mimetype": "text/x-python",
   "name": "python",
   "nbconvert_exporter": "python",
   "pygments_lexer": "ipython3",
   "version": "3.10.8"
  }
 },
 "nbformat": 4,
 "nbformat_minor": 5
}
