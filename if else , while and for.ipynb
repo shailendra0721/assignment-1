{
 "cells": [
  {
   "cell_type": "code",
   "execution_count": 9,
   "id": "b1e4cc8d-9649-45cb-a9c1-ce78dbb957fe",
   "metadata": {},
   "outputs": [],
   "source": [
    "a = 10\n",
    "if a > 10:\n",
    "    print(\" a is greater than than\")"
   ]
  },
  {
   "cell_type": "code",
   "execution_count": 10,
   "id": "443f93e1-4bf3-494b-a4ee-c205d578fe03",
   "metadata": {},
   "outputs": [
    {
     "data": {
      "text/plain": [
       "False"
      ]
     },
     "execution_count": 10,
     "metadata": {},
     "output_type": "execute_result"
    }
   ],
   "source": [
    "a > 10"
   ]
  },
  {
   "cell_type": "code",
   "execution_count": 11,
   "id": "3aeba95b-bc64-4f61-950a-0d584f2bb038",
   "metadata": {},
   "outputs": [
    {
     "name": "stdout",
     "output_type": "stream",
     "text": [
      " a is greater than than\n"
     ]
    }
   ],
   "source": [
    "a = 10\n",
    "if a >= 10:\n",
    "    print(\" a is greater than than\")"
   ]
  },
  {
   "cell_type": "code",
   "execution_count": 12,
   "id": "f65a2cc8-a563-42b8-8a88-ad6ff3d7f494",
   "metadata": {},
   "outputs": [
    {
     "data": {
      "text/plain": [
       "True"
      ]
     },
     "execution_count": 12,
     "metadata": {},
     "output_type": "execute_result"
    }
   ],
   "source": [
    "a >= 10"
   ]
  },
  {
   "cell_type": "code",
   "execution_count": 1,
   "id": "4e0df64e-c26d-4b55-9c89-0e9301c506b2",
   "metadata": {},
   "outputs": [
    {
     "name": "stdout",
     "output_type": "stream",
     "text": [
      "this is mt default\n"
     ]
    }
   ],
   "source": [
    "b = 20\n",
    "if b > 30 :\n",
    "    print(\"b is greater than 30\")\n",
    "elif b > 40:\n",
    "    print(\"yes b is lesserr than 40\")\n",
    "elif b > 100 :\n",
    "    print (\"yes b is greter than 100\")\n",
    "else :\n",
    "    print(\"this is mt default\")"
   ]
  },
  {
   "cell_type": "code",
   "execution_count": 2,
   "id": "1c823b67-5869-44ba-8be4-c0f6e43ea139",
   "metadata": {},
   "outputs": [
    {
     "data": {
      "text/plain": [
       "False"
      ]
     },
     "execution_count": 2,
     "metadata": {},
     "output_type": "execute_result"
    }
   ],
   "source": [
    "b > 30"
   ]
  },
  {
   "cell_type": "code",
   "execution_count": 15,
   "id": "5040fade-4fbc-429e-bfd5-5165a4724b26",
   "metadata": {},
   "outputs": [
    {
     "data": {
      "text/plain": [
       "True"
      ]
     },
     "execution_count": 15,
     "metadata": {},
     "output_type": "execute_result"
    }
   ],
   "source": [
    "b < 40"
   ]
  },
  {
   "cell_type": "code",
   "execution_count": 3,
   "id": "4415dad7-c202-406e-9238-174cebdffbce",
   "metadata": {},
   "outputs": [
    {
     "name": "stdin",
     "output_type": "stream",
     "text": [
      " 34\n"
     ]
    }
   ],
   "source": [
    "b = int(input())"
   ]
  },
  {
   "cell_type": "code",
   "execution_count": 4,
   "id": "eb0f9ec7-0f61-4603-b8c7-70d9c97836fa",
   "metadata": {},
   "outputs": [
    {
     "data": {
      "text/plain": [
       "34"
      ]
     },
     "execution_count": 4,
     "metadata": {},
     "output_type": "execute_result"
    }
   ],
   "source": [
    "b"
   ]
  },
  {
   "cell_type": "code",
   "execution_count": 5,
   "id": "0ed473c3-7503-45b5-ae17-3d0e55e4ff4d",
   "metadata": {},
   "outputs": [
    {
     "data": {
      "text/plain": [
       "34"
      ]
     },
     "execution_count": 5,
     "metadata": {},
     "output_type": "execute_result"
    }
   ],
   "source": [
    "int('34')"
   ]
  },
  {
   "cell_type": "code",
   "execution_count": 6,
   "id": "d600ad87-2a15-4260-aafd-d2b6d4ccc535",
   "metadata": {},
   "outputs": [
    {
     "data": {
      "text/plain": [
       "int"
      ]
     },
     "execution_count": 6,
     "metadata": {},
     "output_type": "execute_result"
    }
   ],
   "source": [
    "type(b)"
   ]
  },
  {
   "cell_type": "code",
   "execution_count": 7,
   "id": "6f63a76c-b11a-4d8f-aca8-d13bdd86ce5b",
   "metadata": {},
   "outputs": [
    {
     "name": "stdin",
     "output_type": "stream",
     "text": [
      " 110\n"
     ]
    },
    {
     "name": "stdout",
     "output_type": "stream",
     "text": [
      "b is greater than 30\n"
     ]
    }
   ],
   "source": [
    "b = int(input())\n",
    "if b > 30 :\n",
    "    print(\"b is greater than 30\")\n",
    "elif b > 40:\n",
    "    print(\"yes b is lesserr than 40\")\n",
    "elif b > 100 :\n",
    "    print (\"yes b is greter than 100\")\n",
    "else :\n",
    "    print(\"this is mt default\")"
   ]
  },
  {
   "cell_type": "code",
   "execution_count": 6,
   "id": "65efd87a-04b5-4b8d-8ef4-2bfa51293ecb",
   "metadata": {},
   "outputs": [
    {
     "name": "stdout",
     "output_type": "stream",
     "text": [
      "1\n",
      "2\n"
     ]
    }
   ],
   "source": [
    "n = 4\n",
    "i = 1\n",
    "while i < n:\n",
    "    print(i)\n",
    "    i = i+1\n",
    "    if i == 3:\n",
    "        break\n",
    "else :\n",
    "    print(\"this is my  else\")\n",
    "    \n"
   ]
  },
  {
   "cell_type": "code",
   "execution_count": 10,
   "id": "ff113eb2-619d-4fb3-9082-38834ac602f8",
   "metadata": {},
   "outputs": [
    {
     "name": "stdout",
     "output_type": "stream",
     "text": [
      "s\n",
      "u\n",
      "d\n",
      "h\n"
     ]
    }
   ],
   "source": [
    "s = 'sudh'\n",
    "for i in s :\n",
    "    print (i)"
   ]
  },
  {
   "cell_type": "code",
   "execution_count": 7,
   "id": "25495af5-6ac1-42c0-8168-4e7954f0986a",
   "metadata": {},
   "outputs": [],
   "source": [
    "l = [1,2,34,5,\"sudh\",\"pwskills\",23,45,True]"
   ]
  },
  {
   "cell_type": "code",
   "execution_count": 8,
   "id": "1ea529a2-120d-4e1d-8aa8-4323adf0b216",
   "metadata": {},
   "outputs": [
    {
     "name": "stdout",
     "output_type": "stream",
     "text": [
      "<class 'int'>\n",
      "<class 'int'>\n",
      "<class 'int'>\n",
      "<class 'int'>\n",
      "<class 'str'>\n",
      "<class 'str'>\n",
      "<class 'int'>\n",
      "<class 'int'>\n",
      "<class 'bool'>\n"
     ]
    }
   ],
   "source": [
    "for i in l :\n",
    "    print(type(i))"
   ]
  },
  {
   "cell_type": "code",
   "execution_count": 14,
   "id": "e7cd4b0b-aa63-4ff8-92e5-8e9d2d115160",
   "metadata": {},
   "outputs": [
    {
     "name": "stdout",
     "output_type": "stream",
     "text": [
      "<class 'int'>\n",
      "1\n",
      "<class 'int'>\n",
      "2\n",
      "<class 'int'>\n",
      "34\n",
      "<class 'int'>\n",
      "5\n",
      "<class 'str'>\n",
      "sudh\n",
      "<class 'str'>\n",
      "pwskills\n",
      "<class 'int'>\n",
      "<class 'int'>\n",
      "45\n",
      "<class 'bool'>\n",
      "True\n",
      "this will be executed itself successfully\n"
     ]
    }
   ],
   "source": [
    "for i in l :\n",
    "    print(type(i))\n",
    "    if i == 23:\n",
    "        continue \n",
    "    print(i)\n",
    "else :\n",
    "    print(\"this will be executed itself successfully\")"
   ]
  },
  {
   "cell_type": "code",
   "execution_count": 15,
   "id": "85f29501-8262-4b3e-81e0-6eb6685a6a7d",
   "metadata": {},
   "outputs": [
    {
     "data": {
      "text/plain": [
       "range(0, 10)"
      ]
     },
     "execution_count": 15,
     "metadata": {},
     "output_type": "execute_result"
    }
   ],
   "source": [
    "range(10)"
   ]
  },
  {
   "cell_type": "code",
   "execution_count": 16,
   "id": "20529231-7295-4ddd-a755-1753a89f0856",
   "metadata": {},
   "outputs": [
    {
     "data": {
      "text/plain": [
       "[0, 1, 2, 3, 4, 5, 6, 7, 8, 9]"
      ]
     },
     "execution_count": 16,
     "metadata": {},
     "output_type": "execute_result"
    }
   ],
   "source": [
    "list(range(10))"
   ]
  },
  {
   "cell_type": "code",
   "execution_count": null,
   "id": "c6a5449c-fc6b-4a64-8a4d-9cd378185d01",
   "metadata": {},
   "outputs": [],
   "source": []
  }
 ],
 "metadata": {
  "kernelspec": {
   "display_name": "Python 3 (ipykernel)",
   "language": "python",
   "name": "python3"
  },
  "language_info": {
   "codemirror_mode": {
    "name": "ipython",
    "version": 3
   },
   "file_extension": ".py",
   "mimetype": "text/x-python",
   "name": "python",
   "nbconvert_exporter": "python",
   "pygments_lexer": "ipython3",
   "version": "3.10.8"
  }
 },
 "nbformat": 4,
 "nbformat_minor": 5
}
